{
 "cells": [
  {
   "cell_type": "code",
   "execution_count": 70,
   "outputs": [],
   "source": [
    "import json\n",
    "import os\n",
    "data = json.loads(open('/Users/pablomaciasmunoz/Dev/Tests/Tests/data.json', 'r').read())\n",
    "\n",
    "file1 = open('/Users/pablomaciasmunoz/Dev/Tests/Tests/file_in/AvisoLegal.html', 'r').read()\n",
    "file2 = open('/Users/pablomaciasmunoz/Dev/Tests/Tests/file_in/CondicionesCompra.html', 'r').read()\n",
    "file3 = open('/Users/pablomaciasmunoz/Dev/Tests/Tests/file_in/PoliticaPrivacidad.html', 'r').read()\n"
   ],
   "metadata": {
    "collapsed": false,
    "pycharm": {
     "name": "#%%\n",
     "is_executing": false
    }
   }
  },
  {
   "cell_type": "code",
   "execution_count": 71,
   "outputs": [],
   "source": [
    "base_path = '/Users/pablomaciasmunoz/Dev/Tests/Tests/out'"
   ],
   "metadata": {
    "collapsed": false,
    "pycharm": {
     "name": "#%%\n",
     "is_executing": false
    }
   }
  },
  {
   "cell_type": "code",
   "execution_count": 72,
   "outputs": [
    {
     "name": "stdout",
     "text": [
      "\n",
      "\n\n\n",
      "\n\n\n",
      "\n\n\n\n",
      "OK\n"
     ],
     "output_type": "stream"
    }
   ],
   "source": [
    "for section in data:\n",
    "    path = os.path.join(base_path, section)\n",
    "    if not os.path.isdir(path):\n",
    "        os.makedirs(path)\n",
    "    print()\n",
    "    file1_out = file1\n",
    "    file2_out = file2\n",
    "    file3_out = file3\n",
    "    for key, value in data[section].items():\n",
    "        file1_out = file1_out.replace('[[{}]]'.format(key), value)\n",
    "        file2_out = file2_out.replace('[[{}]]'.format(key), value)\n",
    "        file3_out = file3_out.replace('[[{}]]'.format(key), value)\n",
    "    file1_out_path = open(os.path.join(path, 'AvisoLegal.html'), 'w+')\n",
    "    file1_out_path.write(file1_out)\n",
    "    file2_out_path = open(os.path.join(path, 'CondicionesCompra.html'), 'w+')\n",
    "    file2_out_path.write(file2_out)\n",
    "    file3_out_path = open(os.path.join(path, 'PoliticaPrivacidad.html'), 'w+')\n",
    "    file3_out_path.write(file3_out)\n",
    "print(\"OK\")\n"
   ],
   "metadata": {
    "collapsed": false,
    "pycharm": {
     "name": "#%%\n",
     "is_executing": false
    }
   }
  },
  {
   "cell_type": "code",
   "execution_count": null,
   "outputs": [],
   "source": [
    "\n"
   ],
   "metadata": {
    "collapsed": false,
    "pycharm": {
     "name": "#%%\n"
    }
   }
  }
 ],
 "metadata": {
  "language_info": {
   "codemirror_mode": {
    "name": "ipython",
    "version": 2
   },
   "file_extension": ".py",
   "mimetype": "text/x-python",
   "name": "python",
   "nbconvert_exporter": "python",
   "pygments_lexer": "ipython2",
   "version": "2.7.6"
  },
  "kernelspec": {
   "name": "python3",
   "language": "python",
   "display_name": "Python 3"
  },
  "pycharm": {
   "stem_cell": {
    "cell_type": "raw",
    "source": [],
    "metadata": {
     "collapsed": false
    }
   }
  }
 },
 "nbformat": 4,
 "nbformat_minor": 0
}